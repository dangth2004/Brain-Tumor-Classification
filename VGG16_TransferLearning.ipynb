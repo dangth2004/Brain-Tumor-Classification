{
 "metadata": {
  "kernelspec": {
   "display_name": "Python 3",
   "name": "python3"
  },
  "language_info": {
   "name": "python",
   "version": "3.11.11",
   "mimetype": "text/x-python",
   "codemirror_mode": {
    "name": "ipython",
    "version": 3
   },
   "pygments_lexer": "ipython3",
   "nbconvert_exporter": "python",
   "file_extension": ".py"
  },
  "kaggle": {
   "accelerator": "gpu",
   "dataSources": [
    {
     "sourceId": 2645886,
     "sourceType": "datasetVersion",
     "datasetId": 1608934
    }
   ],
   "dockerImageVersionId": 31012,
   "isInternetEnabled": true,
   "language": "python",
   "sourceType": "notebook",
   "isGpuEnabled": true
  },
  "colab": {
   "provenance": [],
   "gpuType": "T4"
  },
  "accelerator": "GPU"
 },
 "nbformat_minor": 0,
 "nbformat": 4,
 "cells": [
  {
   "cell_type": "code",
   "source": [
    "!nvidia-smi"
   ],
   "metadata": {
    "colab": {
     "base_uri": "https://localhost:8080/"
    },
    "id": "q6k3ppqFi3sj",
    "outputId": "4162259f-42dd-4a84-fa18-c1d942462e46"
   },
   "execution_count": 1,
   "outputs": [
    {
     "output_type": "stream",
     "name": "stdout",
     "text": [
      "Thu May 15 15:38:16 2025       \n",
      "+-----------------------------------------------------------------------------------------+\n",
      "| NVIDIA-SMI 550.54.15              Driver Version: 550.54.15      CUDA Version: 12.4     |\n",
      "|-----------------------------------------+------------------------+----------------------+\n",
      "| GPU  Name                 Persistence-M | Bus-Id          Disp.A | Volatile Uncorr. ECC |\n",
      "| Fan  Temp   Perf          Pwr:Usage/Cap |           Memory-Usage | GPU-Util  Compute M. |\n",
      "|                                         |                        |               MIG M. |\n",
      "|=========================================+========================+======================|\n",
      "|   0  Tesla T4                       Off |   00000000:00:04.0 Off |                    0 |\n",
      "| N/A   45C    P8             11W /   70W |       0MiB /  15360MiB |      0%      Default |\n",
      "|                                         |                        |                  N/A |\n",
      "+-----------------------------------------+------------------------+----------------------+\n",
      "                                                                                         \n",
      "+-----------------------------------------------------------------------------------------+\n",
      "| Processes:                                                                              |\n",
      "|  GPU   GI   CI        PID   Type   Process name                              GPU Memory |\n",
      "|        ID   ID                                                               Usage      |\n",
      "|=========================================================================================|\n",
      "|  No running processes found                                                             |\n",
      "+-----------------------------------------------------------------------------------------+\n"
     ]
    }
   ]
  },
  {
   "cell_type": "code",
   "source": [
    "import kagglehub\n",
    "\n",
    "# Download latest version\n",
    "path = kagglehub.dataset_download(\"masoudnickparvar/brain-tumor-mri-dataset\")\n",
    "\n",
    "print(\"Path to dataset files:\", path)"
   ],
   "metadata": {
    "trusted": true,
    "execution": {
     "iopub.status.busy": "2025-05-08T14:24:12.210340Z",
     "iopub.execute_input": "2025-05-08T14:24:12.211122Z",
     "iopub.status.idle": "2025-05-08T14:24:12.310317Z",
     "shell.execute_reply.started": "2025-05-08T14:24:12.211097Z",
     "shell.execute_reply": "2025-05-08T14:24:12.309312Z"
    },
    "id": "BVLKZIPCZ_tF",
    "outputId": "f0f082a4-67a3-4f17-c8b9-569b06603fbf",
    "colab": {
     "base_uri": "https://localhost:8080/"
    }
   },
   "outputs": [
    {
     "output_type": "stream",
     "name": "stdout",
     "text": [
      "Path to dataset files: /kaggle/input/brain-tumor-mri-dataset\n"
     ]
    }
   ],
   "execution_count": 2
  },
  {
   "cell_type": "code",
   "source": [
    "import os\n",
    "\n",
    "base_dir = path\n",
    "\n",
    "print(os.listdir(base_dir))\n",
    "train_dir = os.path.join(base_dir, 'Training')\n",
    "test_dir = os.path.join(base_dir, 'Testing')\n",
    "\n",
    "print(os.listdir(train_dir))\n",
    "print(os.listdir(test_dir))"
   ],
   "metadata": {
    "trusted": true,
    "execution": {
     "iopub.status.busy": "2025-05-08T14:24:15.538064Z",
     "iopub.execute_input": "2025-05-08T14:24:15.538344Z",
     "iopub.status.idle": "2025-05-08T14:24:15.546907Z",
     "shell.execute_reply.started": "2025-05-08T14:24:15.538324Z",
     "shell.execute_reply": "2025-05-08T14:24:15.546185Z"
    },
    "id": "sTqyijhQZ_tG",
    "outputId": "986487be-6c7d-4cae-ae89-57f1562c8e07",
    "colab": {
     "base_uri": "https://localhost:8080/"
    }
   },
   "outputs": [
    {
     "output_type": "stream",
     "name": "stdout",
     "text": [
      "['Training', 'Testing']\n",
      "['pituitary', 'notumor', 'meningioma', 'glioma']\n",
      "['pituitary', 'notumor', 'meningioma', 'glioma']\n"
     ]
    }
   ],
   "execution_count": 3
  },
  {
   "cell_type": "code",
   "source": [
    "train_image_dir_glioma = os.path.join(train_dir, 'glioma')\n",
    "train_image_dir_meningioma = os.path.join(train_dir, 'meningioma')\n",
    "train_image_dir_pituitary = os.path.join(train_dir, 'pituitary')\n",
    "train_image_dir_no = os.path.join(train_dir, 'notumor')\n",
    "\n",
    "test_image_dir_glioma = os.path.join(test_dir, 'glioma')\n",
    "test_image_dir_meningioma = os.path.join(test_dir, 'meningioma')\n",
    "test_image_dir_pituitary = os.path.join(test_dir, 'pituitary')\n",
    "test_image_dir_no = os.path.join(test_dir, 'notumor')\n",
    "\n",
    "print('total training image:', len(os.listdir(train_image_dir_glioma)) + len(os.listdir(train_image_dir_meningioma)) +\n",
    "      len(os.listdir(train_image_dir_pituitary)) + len(os.listdir(train_image_dir_no)))\n",
    "print('total testing image:', len(os.listdir(test_image_dir_glioma)) + len(os.listdir(test_image_dir_meningioma)) +\n",
    "      len(os.listdir(test_image_dir_pituitary)) + len(os.listdir(test_image_dir_no)))\n",
    "print('total glioma tumor (train):', len(os.listdir(train_image_dir_glioma)))\n",
    "print('total meningioma tumor (train):', len(os.listdir(train_image_dir_meningioma)))\n",
    "print('total pituitary tumor (train):', len(os.listdir(train_image_dir_pituitary)))\n",
    "print('total no tumor (train):', len(os.listdir(train_image_dir_no)))\n",
    "print('total glioma tumor (test):', len(os.listdir(test_image_dir_glioma)))\n",
    "print('total meningioma tumor (test):', len(os.listdir(test_image_dir_meningioma)))\n",
    "print('total pituitary tumor (test):', len(os.listdir(test_image_dir_pituitary)))\n",
    "print('total no tumor (test):', len(os.listdir(test_image_dir_no)))"
   ],
   "metadata": {
    "trusted": true,
    "execution": {
     "iopub.status.busy": "2025-05-08T14:24:18.199735Z",
     "iopub.execute_input": "2025-05-08T14:24:18.200488Z",
     "iopub.status.idle": "2025-05-08T14:24:18.228791Z",
     "shell.execute_reply.started": "2025-05-08T14:24:18.200458Z",
     "shell.execute_reply": "2025-05-08T14:24:18.228010Z"
    },
    "id": "GJKv6mTjZ_tH",
    "outputId": "fd8dcbc8-23f3-4ced-a3b2-fa3f9be0d1d3",
    "colab": {
     "base_uri": "https://localhost:8080/"
    }
   },
   "outputs": [
    {
     "output_type": "stream",
     "name": "stdout",
     "text": [
      "total training image: 5712\n",
      "total testing image: 1311\n",
      "total glioma tumor (train): 1321\n",
      "total meningioma tumor (train): 1339\n",
      "total pituitary tumor (train): 1457\n",
      "total no tumor (train): 1595\n",
      "total glioma tumor (test): 300\n",
      "total meningioma tumor (test): 306\n",
      "total pituitary tumor (test): 300\n",
      "total no tumor (test): 405\n"
     ]
    }
   ],
   "execution_count": 4
  },
  {
   "cell_type": "code",
   "source": [
    "import torch\n",
    "import torchvision\n",
    "from torchvision import transforms\n",
    "from torchvision.datasets import ImageFolder\n",
    "\n",
    "# Tiền xử lý cho tập huấn luyện (với data augmentation)\n",
    "train_transforms = transforms.Compose([\n",
    "    transforms.Grayscale(num_output_channels=1),\n",
    "    transforms.Resize((512, 512)),  # Thay đổi kích thước\n",
    "    transforms.RandomHorizontalFlip(p=0.6),  # Lật ngang ngẫu nhiên\n",
    "    transforms.RandomRotation(degrees=30),  # Xoay ngẫu nhiên ±30 độ\n",
    "    #transforms.Grayscale(num_output_channels=1),  # Chuyển thành ảnh xám\n",
    "    transforms.ToTensor(),  # Chuyển thành tensor\n",
    "    transforms.Normalize(mean=[0.5], std=[0.5])  # Chuẩn hóa\n",
    "])\n",
    "\n",
    "# Tiền xử lý cho tập kiểm tra (không có data augmentation)\n",
    "test_transforms = transforms.Compose([\n",
    "    transforms.Grayscale(num_output_channels=1),\n",
    "    transforms.Resize((512, 512)),  # Thay đổi kích thước\n",
    "    #transforms.Grayscale(num_output_channels=1),  # Chuyển thành ảnh xám\n",
    "    transforms.ToTensor(),  # Chuyển thành tensor\n",
    "    transforms.Normalize(mean=[0.5], std=[0.5])  # Chuẩn hóa\n",
    "])\n",
    "\n",
    "# Áp dụng vào ImageFolder\n",
    "train_data = ImageFolder(train_dir, transform=train_transforms)\n",
    "test_data = ImageFolder(test_dir, transform=test_transforms)"
   ],
   "metadata": {
    "trusted": true,
    "execution": {
     "iopub.status.busy": "2025-05-08T14:24:21.209592Z",
     "iopub.execute_input": "2025-05-08T14:24:21.209871Z",
     "iopub.status.idle": "2025-05-08T14:24:27.266745Z",
     "shell.execute_reply.started": "2025-05-08T14:24:21.209850Z",
     "shell.execute_reply": "2025-05-08T14:24:27.266106Z"
    },
    "id": "p6Yoz-FJZ_tH"
   },
   "outputs": [],
   "execution_count": 5
  },
  {
   "cell_type": "code",
   "source": [
    "device = torch.device(\"cuda\" if torch.cuda.is_available() else \"cpu\")\n",
    "print(device)"
   ],
   "metadata": {
    "trusted": true,
    "execution": {
     "iopub.status.busy": "2025-05-08T14:24:30.011476Z",
     "iopub.execute_input": "2025-05-08T14:24:30.011758Z",
     "iopub.status.idle": "2025-05-08T14:24:30.016733Z",
     "shell.execute_reply.started": "2025-05-08T14:24:30.011737Z",
     "shell.execute_reply": "2025-05-08T14:24:30.015909Z"
    },
    "id": "62dNio8zZ_tH",
    "outputId": "f29caaeb-8dc6-472a-850b-4203d4957248",
    "colab": {
     "base_uri": "https://localhost:8080/"
    }
   },
   "outputs": [
    {
     "output_type": "stream",
     "name": "stdout",
     "text": [
      "cuda\n"
     ]
    }
   ],
   "execution_count": 6
  },
  {
   "cell_type": "code",
   "source": [
    "from torch.utils.data import DataLoader\n",
    "import torch.nn as nn\n",
    "import torch.optim as optim\n",
    "\n",
    "train = DataLoader(train_data, batch_size=32, shuffle=True)\n",
    "test = DataLoader(test_data, batch_size=32, shuffle=True)\n",
    "\n",
    "dataiter = iter(train)\n",
    "images, labels = next(dataiter)\n",
    "print(f\"Shape of input batch: {images.shape}\")"
   ],
   "metadata": {
    "trusted": true,
    "execution": {
     "iopub.status.busy": "2025-05-08T14:24:34.702723Z",
     "iopub.execute_input": "2025-05-08T14:24:34.703028Z",
     "iopub.status.idle": "2025-05-08T14:24:35.037049Z",
     "shell.execute_reply.started": "2025-05-08T14:24:34.703006Z",
     "shell.execute_reply": "2025-05-08T14:24:35.036269Z"
    },
    "id": "JukFETBfZ_tH",
    "outputId": "3890945e-c0e7-452c-ed44-a24817fdf6df",
    "colab": {
     "base_uri": "https://localhost:8080/"
    }
   },
   "outputs": [
    {
     "output_type": "stream",
     "name": "stdout",
     "text": [
      "Shape of input batch: torch.Size([32, 1, 512, 512])\n"
     ]
    }
   ],
   "execution_count": 7
  },
  {
   "cell_type": "code",
   "source": [
    "import torch\n",
    "import torch.nn as nn\n",
    "from torchvision import models\n",
    "\n",
    "# Load model\n",
    "vgg16 = models.vgg16(pretrained=True)\n",
    "# Convert input layer\n",
    "vgg16.features[0] = torch.nn.Conv2d(1, 64, kernel_size=3, stride=1, padding=1)\n",
    "\n",
    "for param in vgg16.features.parameters():\n",
    "    param.requires_grad = False  # Không cập nhật trọng số các lớp tiền huấn luyện\n",
    "\n",
    "num_classes = 4\n",
    "vgg16.classifier[6] = nn.Linear(4096, num_classes)\n",
    "\n",
    "vgg16.classifier = nn.Sequential(\n",
    "    nn.Linear(25088, 4096),\n",
    "    nn.ReLU(),\n",
    "    nn.Dropout(0.5),\n",
    "    nn.Linear(4096, 4096),\n",
    "    nn.ReLU(),\n",
    "    nn.Dropout(0.5),\n",
    "    nn.Linear(4096, num_classes)\n",
    ")"
   ],
   "metadata": {
    "trusted": true,
    "execution": {
     "iopub.status.busy": "2025-05-08T14:24:39.515404Z",
     "iopub.execute_input": "2025-05-08T14:24:39.515726Z",
     "iopub.status.idle": "2025-05-08T14:24:41.246345Z",
     "shell.execute_reply.started": "2025-05-08T14:24:39.515704Z",
     "shell.execute_reply": "2025-05-08T14:24:41.245353Z"
    },
    "id": "i24TTMV0Z_tH",
    "colab": {
     "base_uri": "https://localhost:8080/"
    },
    "outputId": "0ed46998-00a1-4156-81e9-b4a8587c0b53"
   },
   "outputs": [
    {
     "output_type": "stream",
     "name": "stderr",
     "text": [
      "/usr/local/lib/python3.11/dist-packages/torchvision/models/_utils.py:208: UserWarning: The parameter 'pretrained' is deprecated since 0.13 and may be removed in the future, please use 'weights' instead.\n",
      "  warnings.warn(\n",
      "/usr/local/lib/python3.11/dist-packages/torchvision/models/_utils.py:223: UserWarning: Arguments other than a weight enum or `None` for 'weights' are deprecated since 0.13 and may be removed in the future. The current behavior is equivalent to passing `weights=VGG16_Weights.IMAGENET1K_V1`. You can also use `weights=VGG16_Weights.DEFAULT` to get the most up-to-date weights.\n",
      "  warnings.warn(msg)\n",
      "Downloading: \"https://download.pytorch.org/models/vgg16-397923af.pth\" to /root/.cache/torch/hub/checkpoints/vgg16-397923af.pth\n",
      "100%|██████████| 528M/528M [00:03<00:00, 147MB/s]\n"
     ]
    }
   ],
   "execution_count": 8
  },
  {
   "cell_type": "code",
   "source": [
    "device = torch.device(\"cuda\" if torch.cuda.is_available() else \"cpu\")\n",
    "vgg16 = vgg16.to(device)\n"
   ],
   "metadata": {
    "trusted": true,
    "execution": {
     "iopub.status.busy": "2025-05-08T14:24:58.919620Z",
     "iopub.execute_input": "2025-05-08T14:24:58.920114Z",
     "iopub.status.idle": "2025-05-08T14:24:59.094697Z",
     "shell.execute_reply.started": "2025-05-08T14:24:58.920090Z",
     "shell.execute_reply": "2025-05-08T14:24:59.094110Z"
    },
    "id": "nBRZz3hDZ_tI"
   },
   "outputs": [],
   "execution_count": 9
  },
  {
   "cell_type": "code",
   "source": [
    "criterion = nn.CrossEntropyLoss()\n",
    "optimizer = torch.optim.Adam(vgg16.parameters(), lr=1e-4)\n",
    "vgg16.eval()"
   ],
   "metadata": {
    "trusted": true,
    "execution": {
     "iopub.status.busy": "2025-05-08T14:25:01.950351Z",
     "iopub.execute_input": "2025-05-08T14:25:01.951120Z",
     "iopub.status.idle": "2025-05-08T14:25:01.956056Z",
     "shell.execute_reply.started": "2025-05-08T14:25:01.951097Z",
     "shell.execute_reply": "2025-05-08T14:25:01.955197Z"
    },
    "id": "Dcf08HAaZ_tI",
    "colab": {
     "base_uri": "https://localhost:8080/"
    },
    "outputId": "fab86d83-84a4-4a87-d116-ae71b0c9710c"
   },
   "outputs": [
    {
     "output_type": "execute_result",
     "data": {
      "text/plain": [
       "VGG(\n",
       "  (features): Sequential(\n",
       "    (0): Conv2d(1, 64, kernel_size=(3, 3), stride=(1, 1), padding=(1, 1))\n",
       "    (1): ReLU(inplace=True)\n",
       "    (2): Conv2d(64, 64, kernel_size=(3, 3), stride=(1, 1), padding=(1, 1))\n",
       "    (3): ReLU(inplace=True)\n",
       "    (4): MaxPool2d(kernel_size=2, stride=2, padding=0, dilation=1, ceil_mode=False)\n",
       "    (5): Conv2d(64, 128, kernel_size=(3, 3), stride=(1, 1), padding=(1, 1))\n",
       "    (6): ReLU(inplace=True)\n",
       "    (7): Conv2d(128, 128, kernel_size=(3, 3), stride=(1, 1), padding=(1, 1))\n",
       "    (8): ReLU(inplace=True)\n",
       "    (9): MaxPool2d(kernel_size=2, stride=2, padding=0, dilation=1, ceil_mode=False)\n",
       "    (10): Conv2d(128, 256, kernel_size=(3, 3), stride=(1, 1), padding=(1, 1))\n",
       "    (11): ReLU(inplace=True)\n",
       "    (12): Conv2d(256, 256, kernel_size=(3, 3), stride=(1, 1), padding=(1, 1))\n",
       "    (13): ReLU(inplace=True)\n",
       "    (14): Conv2d(256, 256, kernel_size=(3, 3), stride=(1, 1), padding=(1, 1))\n",
       "    (15): ReLU(inplace=True)\n",
       "    (16): MaxPool2d(kernel_size=2, stride=2, padding=0, dilation=1, ceil_mode=False)\n",
       "    (17): Conv2d(256, 512, kernel_size=(3, 3), stride=(1, 1), padding=(1, 1))\n",
       "    (18): ReLU(inplace=True)\n",
       "    (19): Conv2d(512, 512, kernel_size=(3, 3), stride=(1, 1), padding=(1, 1))\n",
       "    (20): ReLU(inplace=True)\n",
       "    (21): Conv2d(512, 512, kernel_size=(3, 3), stride=(1, 1), padding=(1, 1))\n",
       "    (22): ReLU(inplace=True)\n",
       "    (23): MaxPool2d(kernel_size=2, stride=2, padding=0, dilation=1, ceil_mode=False)\n",
       "    (24): Conv2d(512, 512, kernel_size=(3, 3), stride=(1, 1), padding=(1, 1))\n",
       "    (25): ReLU(inplace=True)\n",
       "    (26): Conv2d(512, 512, kernel_size=(3, 3), stride=(1, 1), padding=(1, 1))\n",
       "    (27): ReLU(inplace=True)\n",
       "    (28): Conv2d(512, 512, kernel_size=(3, 3), stride=(1, 1), padding=(1, 1))\n",
       "    (29): ReLU(inplace=True)\n",
       "    (30): MaxPool2d(kernel_size=2, stride=2, padding=0, dilation=1, ceil_mode=False)\n",
       "  )\n",
       "  (avgpool): AdaptiveAvgPool2d(output_size=(7, 7))\n",
       "  (classifier): Sequential(\n",
       "    (0): Linear(in_features=25088, out_features=4096, bias=True)\n",
       "    (1): ReLU()\n",
       "    (2): Dropout(p=0.5, inplace=False)\n",
       "    (3): Linear(in_features=4096, out_features=4096, bias=True)\n",
       "    (4): ReLU()\n",
       "    (5): Dropout(p=0.5, inplace=False)\n",
       "    (6): Linear(in_features=4096, out_features=4, bias=True)\n",
       "  )\n",
       ")"
      ]
     },
     "metadata": {},
     "execution_count": 10
    }
   ],
   "execution_count": 10
  },
  {
   "cell_type": "code",
   "source": [
    "import time\n",
    "import matplotlib.pyplot as plt\n",
    "\n",
    "num_epochs = 10\n",
    "train_loss_history, val_loss_history = [], []\n",
    "train_acc_history, val_acc_history = [], []\n",
    "\n",
    "for epoch in range(num_epochs):\n",
    "    start_time = time.time()\n",
    "\n",
    "    vgg16.train()\n",
    "    running_loss = 0.0\n",
    "    correct = 0\n",
    "    total = 0\n",
    "\n",
    "    for images, labels in train:\n",
    "        images = images.to(device)\n",
    "        labels = labels.to(device)\n",
    "\n",
    "        # Reset gradients\n",
    "        optimizer.zero_grad()\n",
    "\n",
    "        # Forward\n",
    "        outputs = vgg16(images)\n",
    "        loss = criterion(outputs, labels)\n",
    "\n",
    "        # Backpropagation\n",
    "        loss.backward()\n",
    "        optimizer.step()\n",
    "\n",
    "        # Thống kê\n",
    "        running_loss += loss.item()\n",
    "        _, predicted = torch.max(outputs, 1)\n",
    "\n",
    "        # Nếu labels là one-hot, chuyển về chỉ số lớp\n",
    "        if labels.ndim == 2:\n",
    "            true_labels = torch.argmax(labels, dim=1)\n",
    "        else:\n",
    "            true_labels = labels\n",
    "\n",
    "        total += labels.size(0)\n",
    "        correct += (predicted == true_labels).sum().item()\n",
    "\n",
    "    train_accuracy = 100 * correct / total\n",
    "    avg_loss = running_loss / len(train.dataset)\n",
    "\n",
    "    # ---------- Validation ----------\n",
    "    vgg16.eval()\n",
    "    val_loss = 0.0\n",
    "    val_correct = 0\n",
    "    val_total = 0\n",
    "\n",
    "    with torch.no_grad():\n",
    "        for val_images, val_labels in test:\n",
    "            val_images = val_images.to(device)\n",
    "            val_labels = val_labels.to(device)\n",
    "\n",
    "            val_outputs = vgg16(val_images)\n",
    "            v_loss = criterion(val_outputs, val_labels)\n",
    "            val_loss += v_loss.item()\n",
    "\n",
    "            _, val_pred = torch.max(val_outputs, 1)\n",
    "\n",
    "            if val_labels.ndim == 2:\n",
    "                val_true = torch.argmax(val_labels, dim=1)\n",
    "            else:\n",
    "                val_true = val_labels\n",
    "\n",
    "            val_total += val_labels.size(0)\n",
    "            val_correct += (val_pred == val_true).sum().item()\n",
    "\n",
    "    val_accuracy = 100 * val_correct / val_total\n",
    "    avg_val_loss = val_loss / len(test.dataset)\n",
    "\n",
    "    train_acc_history.append(train_accuracy)\n",
    "    val_acc_history.append(val_accuracy)\n",
    "    train_loss_history.append(avg_loss)\n",
    "    val_loss_history.append(avg_val_loss)\n",
    "\n",
    "    end_time = time.time()\n",
    "    epoch_time = end_time - start_time\n",
    "\n",
    "    print(f\"Epoch {epoch + 1}/{num_epochs} - \"\n",
    "          f\"Train Loss: {avg_loss:.4f} Train Acc: {train_accuracy:.2f}% | \"\n",
    "          f\"Val Loss: {avg_val_loss:.4f} Val Acc: {val_accuracy:.2f}% | \"\n",
    "          f\"Training time: {epoch_time:.2f} seconds\")\n",
    "\n",
    "plt.figure(figsize=(12, 6))\n",
    "# Accuracy\n",
    "plt.subplot(1, 2, 1)\n",
    "plt.plot(train_acc_history, label='Training Accuracy', marker='o')\n",
    "plt.plot(val_acc_history, label='Validation Accuracy', marker='o')\n",
    "plt.xlabel('Epoch')\n",
    "plt.ylabel('Accuracy (%)')\n",
    "plt.title('Training and Validation Accuracy')\n",
    "plt.legend()\n",
    "plt.grid(True)\n",
    "\n",
    "# Loss\n",
    "plt.subplot(1, 2, 2)\n",
    "plt.plot(train_loss_history, label='Training Loss', marker='o')\n",
    "plt.plot(val_loss_history, label='Validation Loss', marker='o')\n",
    "plt.xlabel('Epoch')\n",
    "plt.ylabel('Loss')\n",
    "plt.title('Training and Validation Loss')\n",
    "plt.legend()\n",
    "plt.grid(True)\n",
    "\n",
    "plt.tight_layout()\n",
    "plt.show()"
   ],
   "metadata": {
    "trusted": true,
    "execution": {
     "iopub.status.busy": "2025-05-08T14:25:05.780022Z",
     "iopub.execute_input": "2025-05-08T14:25:05.780337Z",
     "iopub.status.idle": "2025-05-08T14:51:36.489288Z",
     "shell.execute_reply.started": "2025-05-08T14:25:05.780315Z",
     "shell.execute_reply": "2025-05-08T14:51:36.488533Z"
    },
    "id": "ffN7roNLZ_tJ",
    "colab": {
     "base_uri": "https://localhost:8080/",
     "height": 788
    },
    "outputId": "ed2e3baf-cd42-4157-c074-7f687139f8cf"
   },
   "outputs": [
    {
     "output_type": "stream",
     "name": "stdout",
     "text": [
      "Epoch 1/10 - Train Loss: 0.0207 Train Acc: 73.51% | Val Loss: 0.0166 Val Acc: 77.42% | Training time: 244.69 seconds\n",
      "Epoch 2/10 - Train Loss: 0.0135 Train Acc: 82.81% | Val Loss: 0.0145 Val Acc: 82.07% | Training time: 206.23 seconds\n",
      "Epoch 3/10 - Train Loss: 0.0118 Train Acc: 84.44% | Val Loss: 0.0113 Val Acc: 85.58% | Training time: 203.42 seconds\n",
      "Epoch 4/10 - Train Loss: 0.0107 Train Acc: 87.22% | Val Loss: 0.0093 Val Acc: 87.95% | Training time: 203.28 seconds\n",
      "Epoch 5/10 - Train Loss: 0.0097 Train Acc: 88.24% | Val Loss: 0.0128 Val Acc: 83.45% | Training time: 205.40 seconds\n",
      "Epoch 6/10 - Train Loss: 0.0084 Train Acc: 89.46% | Val Loss: 0.0105 Val Acc: 87.95% | Training time: 204.20 seconds\n",
      "Epoch 7/10 - Train Loss: 0.0075 Train Acc: 91.00% | Val Loss: 0.0080 Val Acc: 90.08% | Training time: 204.62 seconds\n",
      "Epoch 8/10 - Train Loss: 0.0072 Train Acc: 91.30% | Val Loss: 0.0075 Val Acc: 90.47% | Training time: 203.34 seconds\n",
      "Epoch 9/10 - Train Loss: 0.0070 Train Acc: 91.75% | Val Loss: 0.0084 Val Acc: 90.08% | Training time: 203.49 seconds\n",
      "Epoch 10/10 - Train Loss: 0.0062 Train Acc: 92.65% | Val Loss: 0.0078 Val Acc: 91.69% | Training time: 202.56 seconds\n"
     ]
    },
    {
     "output_type": "display_data",
     "data": {
      "text/plain": [
       "<Figure size 1200x600 with 2 Axes>"
      ],
      "image/png": "[encoded data removed]"
     },
     "metadata": {}
    }
   ],
   "execution_count": 11
  },
  {
   "cell_type": "code",
   "source": [
    "# Lưu trọng số mô hình đã huấn luyện\n",
    "torch.save(vgg16, 'VGG16_Brain_Tumor.pth')  # Lưu toàn bộ mô hình\n",
    "torch.save(vgg16.state_dict(), 'VGG16_Brain_Tumor_para.pth')  # Chỉ lưu trọng số"
   ],
   "metadata": {
    "trusted": true,
    "id": "RplHEaZNZ_tJ"
   },
   "outputs": [],
   "execution_count": 12
  }
 ]
}
