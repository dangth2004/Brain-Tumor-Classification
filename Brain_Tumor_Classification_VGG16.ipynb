{
 "metadata": {
  "kernelspec": {
   "display_name": "Python 3",
   "name": "python3"
  },
  "language_info": {
   "name": "python",
   "version": "3.11.11",
   "mimetype": "text/x-python",
   "codemirror_mode": {
    "name": "ipython",
    "version": 3
   },
   "pygments_lexer": "ipython3",
   "nbconvert_exporter": "python",
   "file_extension": ".py"
  },
  "kaggle": {
   "accelerator": "gpu",
   "dataSources": [
    {
     "sourceId": 2645886,
     "sourceType": "datasetVersion",
     "datasetId": 1608934
    }
   ],
   "dockerImageVersionId": 31012,
   "isInternetEnabled": true,
   "language": "python",
   "sourceType": "notebook",
   "isGpuEnabled": true
  },
  "colab": {
   "provenance": [],
   "gpuType": "T4"
  },
  "accelerator": "GPU"
 },
 "nbformat_minor": 0,
 "nbformat": 4,
 "cells": [
  {
   "cell_type": "code",
   "source": [
    "!nvidia-smi"
   ],
   "metadata": {
    "colab": {
     "base_uri": "https://localhost:8080/"
    },
    "id": "q6k3ppqFi3sj",
    "outputId": "979731f6-d306-4c37-cbfb-0b6a7512d5fb"
   },
   "execution_count": null,
   "outputs": [
    {
     "output_type": "stream",
     "name": "stdout",
     "text": [
      "Wed May 21 09:12:14 2025       \n",
      "+-----------------------------------------------------------------------------------------+\n",
      "| NVIDIA-SMI 550.54.15              Driver Version: 550.54.15      CUDA Version: 12.4     |\n",
      "|-----------------------------------------+------------------------+----------------------+\n",
      "| GPU  Name                 Persistence-M | Bus-Id          Disp.A | Volatile Uncorr. ECC |\n",
      "| Fan  Temp   Perf          Pwr:Usage/Cap |           Memory-Usage | GPU-Util  Compute M. |\n",
      "|                                         |                        |               MIG M. |\n",
      "|=========================================+========================+======================|\n",
      "|   0  Tesla T4                       Off |   00000000:00:04.0 Off |                    0 |\n",
      "| N/A   72C    P8             21W /   70W |       0MiB /  15360MiB |      0%      Default |\n",
      "|                                         |                        |                  N/A |\n",
      "+-----------------------------------------+------------------------+----------------------+\n",
      "                                                                                         \n",
      "+-----------------------------------------------------------------------------------------+\n",
      "| Processes:                                                                              |\n",
      "|  GPU   GI   CI        PID   Type   Process name                              GPU Memory |\n",
      "|        ID   ID                                                               Usage      |\n",
      "|=========================================================================================|\n",
      "|  No running processes found                                                             |\n",
      "+-----------------------------------------------------------------------------------------+\n"
     ]
    }
   ]
  },
  {
   "cell_type": "code",
   "source": [
    "import kagglehub\n",
    "\n",
    "# Download latest version\n",
    "path = kagglehub.dataset_download(\"masoudnickparvar/brain-tumor-mri-dataset\")\n",
    "\n",
    "print(\"Path to dataset files:\", path)"
   ],
   "metadata": {
    "trusted": true,
    "execution": {
     "iopub.status.busy": "2025-05-08T14:24:12.210340Z",
     "iopub.execute_input": "2025-05-08T14:24:12.211122Z",
     "iopub.status.idle": "2025-05-08T14:24:12.310317Z",
     "shell.execute_reply.started": "2025-05-08T14:24:12.211097Z",
     "shell.execute_reply": "2025-05-08T14:24:12.309312Z"
    },
    "id": "BVLKZIPCZ_tF",
    "outputId": "60daed2e-c68a-4a2a-c147-f41e09c2a64c",
    "colab": {
     "base_uri": "https://localhost:8080/"
    }
   },
   "outputs": [
    {
     "output_type": "stream",
     "name": "stdout",
     "text": [
      "Path to dataset files: /kaggle/input/brain-tumor-mri-dataset\n"
     ]
    }
   ],
   "execution_count": null
  },
  {
   "cell_type": "code",
   "source": [
    "import os\n",
    "\n",
    "base_dir = path\n",
    "\n",
    "print(os.listdir(base_dir))\n",
    "train_dir = os.path.join(base_dir, 'Training')\n",
    "test_dir = os.path.join(base_dir, 'Testing')\n",
    "\n",
    "print(os.listdir(train_dir))\n",
    "print(os.listdir(test_dir))"
   ],
   "metadata": {
    "trusted": true,
    "execution": {
     "iopub.status.busy": "2025-05-08T14:24:15.538064Z",
     "iopub.execute_input": "2025-05-08T14:24:15.538344Z",
     "iopub.status.idle": "2025-05-08T14:24:15.546907Z",
     "shell.execute_reply.started": "2025-05-08T14:24:15.538324Z",
     "shell.execute_reply": "2025-05-08T14:24:15.546185Z"
    },
    "id": "sTqyijhQZ_tG",
    "outputId": "608f71da-7c4f-49e0-b6bd-cba1ec91d104",
    "colab": {
     "base_uri": "https://localhost:8080/"
    }
   },
   "outputs": [
    {
     "output_type": "stream",
     "name": "stdout",
     "text": [
      "['Training', 'Testing']\n",
      "['pituitary', 'notumor', 'meningioma', 'glioma']\n",
      "['pituitary', 'notumor', 'meningioma', 'glioma']\n"
     ]
    }
   ],
   "execution_count": null
  },
  {
   "cell_type": "code",
   "source": [
    "train_image_dir_glioma = os.path.join(train_dir, 'glioma')\n",
    "train_image_dir_meningioma = os.path.join(train_dir, 'meningioma')\n",
    "train_image_dir_pituitary = os.path.join(train_dir, 'pituitary')\n",
    "train_image_dir_no = os.path.join(train_dir, 'notumor')\n",
    "\n",
    "test_image_dir_glioma = os.path.join(test_dir, 'glioma')\n",
    "test_image_dir_meningioma = os.path.join(test_dir, 'meningioma')\n",
    "test_image_dir_pituitary = os.path.join(test_dir, 'pituitary')\n",
    "test_image_dir_no = os.path.join(test_dir, 'notumor')\n",
    "\n",
    "print('total training image:', len(os.listdir(train_image_dir_glioma)) + len(os.listdir(train_image_dir_meningioma)) +\n",
    "      len(os.listdir(train_image_dir_pituitary)) + len(os.listdir(train_image_dir_no)))\n",
    "print('total testing image:', len(os.listdir(test_image_dir_glioma)) + len(os.listdir(test_image_dir_meningioma)) +\n",
    "      len(os.listdir(test_image_dir_pituitary)) + len(os.listdir(test_image_dir_no)))\n",
    "print('total glioma tumor (train):', len(os.listdir(train_image_dir_glioma)))\n",
    "print('total meningioma tumor (train):', len(os.listdir(train_image_dir_meningioma)))\n",
    "print('total pituitary tumor (train):', len(os.listdir(train_image_dir_pituitary)))\n",
    "print('total no tumor (train):', len(os.listdir(train_image_dir_no)))\n",
    "print('total glioma tumor (test):', len(os.listdir(test_image_dir_glioma)))\n",
    "print('total meningioma tumor (test):', len(os.listdir(test_image_dir_meningioma)))\n",
    "print('total pituitary tumor (test):', len(os.listdir(test_image_dir_pituitary)))\n",
    "print('total no tumor (test):', len(os.listdir(test_image_dir_no)))"
   ],
   "metadata": {
    "trusted": true,
    "execution": {
     "iopub.status.busy": "2025-05-08T14:24:18.199735Z",
     "iopub.execute_input": "2025-05-08T14:24:18.200488Z",
     "iopub.status.idle": "2025-05-08T14:24:18.228791Z",
     "shell.execute_reply.started": "2025-05-08T14:24:18.200458Z",
     "shell.execute_reply": "2025-05-08T14:24:18.228010Z"
    },
    "id": "GJKv6mTjZ_tH",
    "outputId": "ba7a2326-b209-4a11-e207-de18f665e23a",
    "colab": {
     "base_uri": "https://localhost:8080/"
    }
   },
   "outputs": [
    {
     "output_type": "stream",
     "name": "stdout",
     "text": [
      "total training image: 5712\n",
      "total testing image: 1311\n",
      "total glioma tumor (train): 1321\n",
      "total meningioma tumor (train): 1339\n",
      "total pituitary tumor (train): 1457\n",
      "total no tumor (train): 1595\n",
      "total glioma tumor (test): 300\n",
      "total meningioma tumor (test): 306\n",
      "total pituitary tumor (test): 300\n",
      "total no tumor (test): 405\n"
     ]
    }
   ],
   "execution_count": null
  },
  {
   "cell_type": "code",
   "source": [
    "import torch\n",
    "import torchvision\n",
    "from torchvision import transforms\n",
    "from torchvision.datasets import ImageFolder\n",
    "\n",
    "# Tiền xử lý cho tập huấn luyện (với data augmentation)\n",
    "train_transforms = transforms.Compose([\n",
    "    transforms.Grayscale(num_output_channels=1),\n",
    "    transforms.Resize((512, 512)),  # Thay đổi kích thước\n",
    "    transforms.RandomHorizontalFlip(p=0.6),  # Lật ngang ngẫu nhiên\n",
    "    transforms.RandomRotation(degrees=30),  # Xoay ngẫu nhiên ±30 độ\n",
    "    #transforms.Grayscale(num_output_channels=1),  # Chuyển thành ảnh xám\n",
    "    transforms.ToTensor(),  # Chuyển thành tensor\n",
    "    transforms.Normalize(mean=[0.5], std=[0.5])  # Chuẩn hóa\n",
    "])\n",
    "\n",
    "# Tiền xử lý cho tập kiểm tra (không có data augmentation)\n",
    "test_transforms = transforms.Compose([\n",
    "    transforms.Grayscale(num_output_channels=1),\n",
    "    transforms.Resize((512, 512)),  # Thay đổi kích thước\n",
    "    #transforms.Grayscale(num_output_channels=1),  # Chuyển thành ảnh xám\n",
    "    transforms.ToTensor(),  # Chuyển thành tensor\n",
    "    transforms.Normalize(mean=[0.5], std=[0.5])  # Chuẩn hóa\n",
    "])\n",
    "\n",
    "# Áp dụng vào ImageFolder\n",
    "train_data = ImageFolder(train_dir, transform=train_transforms)\n",
    "test_data = ImageFolder(test_dir, transform=test_transforms)"
   ],
   "metadata": {
    "trusted": true,
    "execution": {
     "iopub.status.busy": "2025-05-08T14:24:21.209592Z",
     "iopub.execute_input": "2025-05-08T14:24:21.209871Z",
     "iopub.status.idle": "2025-05-08T14:24:27.266745Z",
     "shell.execute_reply.started": "2025-05-08T14:24:21.209850Z",
     "shell.execute_reply": "2025-05-08T14:24:27.266106Z"
    },
    "id": "p6Yoz-FJZ_tH"
   },
   "outputs": [],
   "execution_count": null
  },
  {
   "cell_type": "code",
   "source": [
    "device = torch.device(\"cuda\" if torch.cuda.is_available() else \"cpu\")\n",
    "print(device)"
   ],
   "metadata": {
    "trusted": true,
    "execution": {
     "iopub.status.busy": "2025-05-08T14:24:30.011476Z",
     "iopub.execute_input": "2025-05-08T14:24:30.011758Z",
     "iopub.status.idle": "2025-05-08T14:24:30.016733Z",
     "shell.execute_reply.started": "2025-05-08T14:24:30.011737Z",
     "shell.execute_reply": "2025-05-08T14:24:30.015909Z"
    },
    "id": "62dNio8zZ_tH",
    "outputId": "97a8273b-73cd-48c7-8e06-585bfaa4b60d",
    "colab": {
     "base_uri": "https://localhost:8080/"
    }
   },
   "outputs": [
    {
     "output_type": "stream",
     "name": "stdout",
     "text": [
      "cuda\n"
     ]
    }
   ],
   "execution_count": null
  },
  {
   "cell_type": "code",
   "source": [
    "from torch.utils.data import DataLoader\n",
    "import torch.nn as nn\n",
    "import torch.optim as optim\n",
    "\n",
    "train = DataLoader(train_data, batch_size=35, shuffle=True)\n",
    "test = DataLoader(test_data, batch_size=35, shuffle=True)\n",
    "\n",
    "dataiter = iter(train)\n",
    "images, labels = next(dataiter)\n",
    "print(f\"Shape of input batch: {images.shape}\")"
   ],
   "metadata": {
    "trusted": true,
    "execution": {
     "iopub.status.busy": "2025-05-08T14:24:34.702723Z",
     "iopub.execute_input": "2025-05-08T14:24:34.703028Z",
     "iopub.status.idle": "2025-05-08T14:24:35.037049Z",
     "shell.execute_reply.started": "2025-05-08T14:24:34.703006Z",
     "shell.execute_reply": "2025-05-08T14:24:35.036269Z"
    },
    "id": "JukFETBfZ_tH",
    "outputId": "60ec9d93-3053-4dd7-e8ea-05671f18dcab",
    "colab": {
     "base_uri": "https://localhost:8080/"
    }
   },
   "outputs": [
    {
     "output_type": "stream",
     "name": "stdout",
     "text": [
      "Shape of input batch: torch.Size([35, 1, 224, 224])\n"
     ]
    }
   ],
   "execution_count": null
  },
  {
   "cell_type": "code",
   "source": [
    "import torch\n",
    "import torch.nn as nn\n",
    "from torchvision import models\n",
    "\n",
    "\n",
    "class VGG16Classifier(nn.Module):\n",
    "    def __init__(self, num_classes=4, in_channles=1):\n",
    "        super(VGG16Classifier, self).__init__()\n",
    "        # Load model\n",
    "        self.vgg16 = models.vgg16(pretrained=True)\n",
    "\n",
    "        # Convert input layer\n",
    "        self.vgg16.features[0] = nn.Conv2d(in_channles, 64, kernel_size=3, stride=1, padding=1)\n",
    "\n",
    "        # Freeze feature layers\n",
    "        for param in self.vgg16.features.parameters():\n",
    "            param.requires_grad = False\n",
    "\n",
    "        # Modify classifier\n",
    "        self.vgg16.classifier = nn.Sequential(\n",
    "            nn.Linear(25088, 4096),\n",
    "            nn.ReLU(),\n",
    "            nn.Dropout(0.5),\n",
    "            nn.Linear(4096, 4096),\n",
    "            nn.ReLU(),\n",
    "            nn.Dropout(0.5),\n",
    "            nn.Linear(4096, num_classes)\n",
    "        )\n",
    "\n",
    "    def forward(self, x):\n",
    "        return self.vgg16(x)\n",
    "\n",
    "\n",
    "# Khởi tạo mô hình\n",
    "model = VGG16Classifier(num_classes=4, in_channles=1)\n",
    "\n",
    "device = torch.device(\"cuda\" if torch.cuda.is_available() else \"cpu\")\n",
    "model = model.to(device)\n",
    "\n",
    "criterion = nn.CrossEntropyLoss()\n",
    "optimizer = torch.optim.Adam(model.parameters(), lr=1e-5)\n",
    "model.eval()"
   ],
   "metadata": {
    "trusted": true,
    "execution": {
     "iopub.status.busy": "2025-05-08T14:24:39.515404Z",
     "iopub.execute_input": "2025-05-08T14:24:39.515726Z",
     "iopub.status.idle": "2025-05-08T14:24:41.246345Z",
     "shell.execute_reply.started": "2025-05-08T14:24:39.515704Z",
     "shell.execute_reply": "2025-05-08T14:24:41.245353Z"
    },
    "id": "i24TTMV0Z_tH",
    "colab": {
     "base_uri": "https://localhost:8080/"
    },
    "outputId": "48d135cd-78c8-44d7-b3af-9dca2ce08325"
   },
   "outputs": [
    {
     "output_type": "stream",
     "name": "stderr",
     "text": [
      "/usr/local/lib/python3.11/dist-packages/torchvision/models/_utils.py:208: UserWarning: The parameter 'pretrained' is deprecated since 0.13 and may be removed in the future, please use 'weights' instead.\n",
      "  warnings.warn(\n",
      "/usr/local/lib/python3.11/dist-packages/torchvision/models/_utils.py:223: UserWarning: Arguments other than a weight enum or `None` for 'weights' are deprecated since 0.13 and may be removed in the future. The current behavior is equivalent to passing `weights=VGG16_Weights.IMAGENET1K_V1`. You can also use `weights=VGG16_Weights.DEFAULT` to get the most up-to-date weights.\n",
      "  warnings.warn(msg)\n"
     ]
    },
    {
     "output_type": "execute_result",
     "data": {
      "text/plain": [
       "VGG16Classifier(\n",
       "  (vgg16): VGG(\n",
       "    (features): Sequential(\n",
       "      (0): Conv2d(1, 64, kernel_size=(3, 3), stride=(1, 1), padding=(1, 1))\n",
       "      (1): ReLU(inplace=True)\n",
       "      (2): Conv2d(64, 64, kernel_size=(3, 3), stride=(1, 1), padding=(1, 1))\n",
       "      (3): ReLU(inplace=True)\n",
       "      (4): MaxPool2d(kernel_size=2, stride=2, padding=0, dilation=1, ceil_mode=False)\n",
       "      (5): Conv2d(64, 128, kernel_size=(3, 3), stride=(1, 1), padding=(1, 1))\n",
       "      (6): ReLU(inplace=True)\n",
       "      (7): Conv2d(128, 128, kernel_size=(3, 3), stride=(1, 1), padding=(1, 1))\n",
       "      (8): ReLU(inplace=True)\n",
       "      (9): MaxPool2d(kernel_size=2, stride=2, padding=0, dilation=1, ceil_mode=False)\n",
       "      (10): Conv2d(128, 256, kernel_size=(3, 3), stride=(1, 1), padding=(1, 1))\n",
       "      (11): ReLU(inplace=True)\n",
       "      (12): Conv2d(256, 256, kernel_size=(3, 3), stride=(1, 1), padding=(1, 1))\n",
       "      (13): ReLU(inplace=True)\n",
       "      (14): Conv2d(256, 256, kernel_size=(3, 3), stride=(1, 1), padding=(1, 1))\n",
       "      (15): ReLU(inplace=True)\n",
       "      (16): MaxPool2d(kernel_size=2, stride=2, padding=0, dilation=1, ceil_mode=False)\n",
       "      (17): Conv2d(256, 512, kernel_size=(3, 3), stride=(1, 1), padding=(1, 1))\n",
       "      (18): ReLU(inplace=True)\n",
       "      (19): Conv2d(512, 512, kernel_size=(3, 3), stride=(1, 1), padding=(1, 1))\n",
       "      (20): ReLU(inplace=True)\n",
       "      (21): Conv2d(512, 512, kernel_size=(3, 3), stride=(1, 1), padding=(1, 1))\n",
       "      (22): ReLU(inplace=True)\n",
       "      (23): MaxPool2d(kernel_size=2, stride=2, padding=0, dilation=1, ceil_mode=False)\n",
       "      (24): Conv2d(512, 512, kernel_size=(3, 3), stride=(1, 1), padding=(1, 1))\n",
       "      (25): ReLU(inplace=True)\n",
       "      (26): Conv2d(512, 512, kernel_size=(3, 3), stride=(1, 1), padding=(1, 1))\n",
       "      (27): ReLU(inplace=True)\n",
       "      (28): Conv2d(512, 512, kernel_size=(3, 3), stride=(1, 1), padding=(1, 1))\n",
       "      (29): ReLU(inplace=True)\n",
       "      (30): MaxPool2d(kernel_size=2, stride=2, padding=0, dilation=1, ceil_mode=False)\n",
       "    )\n",
       "    (avgpool): AdaptiveAvgPool2d(output_size=(7, 7))\n",
       "    (classifier): Sequential(\n",
       "      (0): Linear(in_features=25088, out_features=4096, bias=True)\n",
       "      (1): ReLU()\n",
       "      (2): Dropout(p=0.5, inplace=False)\n",
       "      (3): Linear(in_features=4096, out_features=4096, bias=True)\n",
       "      (4): ReLU()\n",
       "      (5): Dropout(p=0.5, inplace=False)\n",
       "      (6): Linear(in_features=4096, out_features=4, bias=True)\n",
       "    )\n",
       "  )\n",
       ")"
      ]
     },
     "metadata": {},
     "execution_count": 8
    }
   ],
   "execution_count": null
  },
  {
   "cell_type": "code",
   "source": [
    "import time\n",
    "import matplotlib.pyplot as plt\n",
    "\n",
    "num_epochs = 20\n",
    "train_loss_history, val_loss_history = [], []\n",
    "train_acc_history, val_acc_history = [], []\n",
    "\n",
    "for epoch in range(num_epochs):\n",
    "    start_time = time.time()\n",
    "\n",
    "    model.train()\n",
    "    running_loss = 0.0\n",
    "    correct = 0\n",
    "    total = 0\n",
    "\n",
    "    for images, labels in train:\n",
    "        images = images.to(device)\n",
    "        labels = labels.to(device)\n",
    "\n",
    "        # Reset gradients\n",
    "        optimizer.zero_grad()\n",
    "\n",
    "        # Forward\n",
    "        outputs = model(images)\n",
    "        loss = criterion(outputs, labels)\n",
    "\n",
    "        # Backpropagation\n",
    "        loss.backward()\n",
    "        optimizer.step()\n",
    "\n",
    "        # Thống kê\n",
    "        running_loss += loss.item()\n",
    "        _, predicted = torch.max(outputs, 1)\n",
    "\n",
    "        # Nếu labels là one-hot, chuyển về chỉ số lớp\n",
    "        if labels.ndim == 2:\n",
    "            true_labels = torch.argmax(labels, dim=1)\n",
    "        else:\n",
    "            true_labels = labels\n",
    "\n",
    "        total += labels.size(0)\n",
    "        correct += (predicted == true_labels).sum().item()\n",
    "\n",
    "    train_accuracy = 100 * correct / total\n",
    "    avg_loss = running_loss / len(train.dataset)\n",
    "\n",
    "    # ---------- Validation ----------\n",
    "    model.eval()\n",
    "    val_loss = 0.0\n",
    "    val_correct = 0\n",
    "    val_total = 0\n",
    "\n",
    "    with torch.no_grad():\n",
    "        for val_images, val_labels in test:\n",
    "            val_images = val_images.to(device)\n",
    "            val_labels = val_labels.to(device)\n",
    "\n",
    "            val_outputs = model(val_images)\n",
    "            v_loss = criterion(val_outputs, val_labels)\n",
    "            val_loss += v_loss.item()\n",
    "\n",
    "            _, val_pred = torch.max(val_outputs, 1)\n",
    "\n",
    "            if val_labels.ndim == 2:\n",
    "                val_true = torch.argmax(val_labels, dim=1)\n",
    "            else:\n",
    "                val_true = val_labels\n",
    "\n",
    "            val_total += val_labels.size(0)\n",
    "            val_correct += (val_pred == val_true).sum().item()\n",
    "\n",
    "    val_accuracy = 100 * val_correct / val_total\n",
    "    avg_val_loss = val_loss / len(test.dataset)\n",
    "\n",
    "    train_acc_history.append(train_accuracy)\n",
    "    val_acc_history.append(val_accuracy)\n",
    "    train_loss_history.append(avg_loss)\n",
    "    val_loss_history.append(avg_val_loss)\n",
    "\n",
    "    end_time = time.time()\n",
    "    epoch_time = end_time - start_time\n",
    "\n",
    "    print(f\"Epoch {epoch + 1}/{num_epochs} - \"\n",
    "          f\"Train Loss: {avg_loss:.4f} Train Acc: {train_accuracy:.2f}% | \"\n",
    "          f\"Val Loss: {avg_val_loss:.4f} Val Acc: {val_accuracy:.2f}% | \"\n",
    "          f\"Training time: {epoch_time:.2f} seconds\")\n",
    "\n",
    "plt.figure(figsize=(12, 6))\n",
    "# Accuracy\n",
    "plt.subplot(1, 2, 1)\n",
    "plt.plot(train_acc_history, label='Training Accuracy', marker='o')\n",
    "plt.plot(val_acc_history, label='Validation Accuracy', marker='o')\n",
    "plt.xlabel('Epoch')\n",
    "plt.ylabel('Accuracy (%)')\n",
    "plt.title('Training and Validation Accuracy')\n",
    "plt.legend()\n",
    "plt.grid(True)\n",
    "\n",
    "# Loss\n",
    "plt.subplot(1, 2, 2)\n",
    "plt.plot(train_loss_history, label='Training Loss', marker='o')\n",
    "plt.plot(val_loss_history, label='Validation Loss', marker='o')\n",
    "plt.xlabel('Epoch')\n",
    "plt.ylabel('Loss')\n",
    "plt.title('Training and Validation Loss')\n",
    "plt.legend()\n",
    "plt.grid(True)\n",
    "\n",
    "plt.tight_layout()\n",
    "plt.show()"
   ],
   "metadata": {
    "trusted": true,
    "execution": {
     "iopub.status.busy": "2025-05-08T14:25:05.780022Z",
     "iopub.execute_input": "2025-05-08T14:25:05.780337Z",
     "iopub.status.idle": "2025-05-08T14:51:36.489288Z",
     "shell.execute_reply.started": "2025-05-08T14:25:05.780315Z",
     "shell.execute_reply": "2025-05-08T14:51:36.488533Z"
    },
    "id": "ffN7roNLZ_tJ",
    "colab": {
     "base_uri": "https://localhost:8080/",
     "height": 969
    },
    "outputId": "fa501789-a8a1-4655-8942-018955c82c1e"
   },
   "outputs": [
    {
     "output_type": "stream",
     "name": "stdout",
     "text": [
      "Epoch 1/20 - Train Loss: 0.0283 Train Acc: 63.99% | Val Loss: 0.0238 Val Acc: 67.81% | Training time: 71.47 seconds\n",
      "Epoch 2/20 - Train Loss: 0.0180 Train Acc: 76.65% | Val Loss: 0.0185 Val Acc: 74.37% | Training time: 71.86 seconds\n",
      "Epoch 3/20 - Train Loss: 0.0150 Train Acc: 80.48% | Val Loss: 0.0164 Val Acc: 78.49% | Training time: 71.31 seconds\n",
      "Epoch 4/20 - Train Loss: 0.0136 Train Acc: 82.30% | Val Loss: 0.0146 Val Acc: 79.63% | Training time: 71.60 seconds\n",
      "Epoch 5/20 - Train Loss: 0.0123 Train Acc: 84.03% | Val Loss: 0.0146 Val Acc: 80.93% | Training time: 71.33 seconds\n",
      "Epoch 6/20 - Train Loss: 0.0114 Train Acc: 85.08% | Val Loss: 0.0133 Val Acc: 82.53% | Training time: 71.79 seconds\n",
      "Epoch 7/20 - Train Loss: 0.0110 Train Acc: 85.64% | Val Loss: 0.0124 Val Acc: 84.13% | Training time: 70.73 seconds\n",
      "Epoch 8/20 - Train Loss: 0.0103 Train Acc: 86.40% | Val Loss: 0.0111 Val Acc: 85.89% | Training time: 70.89 seconds\n",
      "Epoch 9/20 - Train Loss: 0.0098 Train Acc: 87.17% | Val Loss: 0.0105 Val Acc: 85.96% | Training time: 70.50 seconds\n",
      "Epoch 10/20 - Train Loss: 0.0095 Train Acc: 87.87% | Val Loss: 0.0106 Val Acc: 86.04% | Training time: 70.45 seconds\n",
      "Epoch 11/20 - Train Loss: 0.0091 Train Acc: 88.48% | Val Loss: 0.0094 Val Acc: 87.95% | Training time: 70.36 seconds\n",
      "Epoch 12/20 - Train Loss: 0.0085 Train Acc: 89.08% | Val Loss: 0.0092 Val Acc: 88.02% | Training time: 70.36 seconds\n",
      "Epoch 13/20 - Train Loss: 0.0085 Train Acc: 89.06% | Val Loss: 0.0091 Val Acc: 88.25% | Training time: 70.35 seconds\n",
      "Epoch 14/20 - Train Loss: 0.0080 Train Acc: 90.06% | Val Loss: 0.0098 Val Acc: 88.10% | Training time: 70.23 seconds\n",
      "Epoch 15/20 - Train Loss: 0.0077 Train Acc: 90.04% | Val Loss: 0.0089 Val Acc: 88.63% | Training time: 70.50 seconds\n",
      "Epoch 16/20 - Train Loss: 0.0075 Train Acc: 90.55% | Val Loss: 0.0088 Val Acc: 88.48% | Training time: 70.28 seconds\n",
      "Epoch 17/20 - Train Loss: 0.0072 Train Acc: 91.32% | Val Loss: 0.0080 Val Acc: 89.78% | Training time: 70.43 seconds\n",
      "Epoch 18/20 - Train Loss: 0.0073 Train Acc: 90.77% | Val Loss: 0.0076 Val Acc: 90.85% | Training time: 70.11 seconds\n",
      "Epoch 19/20 - Train Loss: 0.0069 Train Acc: 91.28% | Val Loss: 0.0076 Val Acc: 90.31% | Training time: 70.25 seconds\n",
      "Epoch 20/20 - Train Loss: 0.0067 Train Acc: 91.54% | Val Loss: 0.0084 Val Acc: 89.86% | Training time: 70.29 seconds\n"
     ]
    },
    {
     "output_type": "display_data",
     "data": {
      "text/plain": [
       "<Figure size 1200x600 with 2 Axes>"
      ],
      "image/png": "[encoded data removed]"
     },
     "metadata": {}
    }
   ],
   "execution_count": null
  },
  {
   "cell_type": "code",
   "source": [
    "from sklearn.metrics import classification_report\n",
    "\n",
    "# Đánh giá precision, recall, và F1-score sau khi huấn luyện\n",
    "model.eval()\n",
    "all_preds, all_labels = [], []\n",
    "with torch.no_grad():\n",
    "    for inputs, labels in test:\n",
    "        inputs, labels = inputs.to(device), labels.to(device)\n",
    "        outputs = model(inputs)\n",
    "        _, preds = torch.max(outputs, 1)\n",
    "\n",
    "        # Lưu nhãn dự đoán và nhãn thực tế\n",
    "        all_preds.extend(preds.cpu().numpy())\n",
    "        all_labels.extend(labels.cpu().numpy())\n",
    "\n",
    "print(classification_report(all_labels, all_preds, target_names=test_data.classes))"
   ],
   "metadata": {
    "colab": {
     "base_uri": "https://localhost:8080/"
    },
    "id": "xixdiWQSG90d",
    "outputId": "0f7c5d1a-cfd4-44e3-97a6-9f57db171e30"
   },
   "execution_count": null,
   "outputs": [
    {
     "output_type": "stream",
     "name": "stdout",
     "text": [
      "              precision    recall  f1-score   support\n",
      "\n",
      "      glioma       0.91      0.82      0.86       300\n",
      "  meningioma       0.81      0.84      0.82       306\n",
      "     notumor       0.92      0.99      0.95       405\n",
      "   pituitary       0.96      0.92      0.94       300\n",
      "\n",
      "    accuracy                           0.90      1311\n",
      "   macro avg       0.90      0.89      0.89      1311\n",
      "weighted avg       0.90      0.90      0.90      1311\n",
      "\n"
     ]
    }
   ]
  }
 ]
}
